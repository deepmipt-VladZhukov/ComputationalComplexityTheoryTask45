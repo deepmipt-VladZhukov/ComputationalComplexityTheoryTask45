{
 "cells": [
  {
   "cell_type": "code",
   "execution_count": 8,
   "metadata": {
    "collapsed": false
   },
   "outputs": [],
   "source": [
    "import os\n",
    "\n",
    "from PyPDF2 import PdfFileReader, PdfFileMerger\n",
    "\n",
    "files_dir = \"/Users/vlad/Documents/my_git_hub/comp_compl\"\n",
    "pdf_files = [f for f in os.listdir(files_dir) if f.endswith(\"pdf\")]\n",
    "merger = PdfFileMerger()\n",
    "\n",
    "for filename in pdf_files:\n",
    "    merger.append(PdfFileReader(os.path.join(files_dir, filename), \"rb\"))\n",
    "\n",
    "merger.write(os.path.join(files_dir, \"merged_full.pdf\"))"
   ]
  }
 ],
 "metadata": {
  "kernelspec": {
   "display_name": "py3.4",
   "language": "python",
   "name": "py3.4"
  },
  "language_info": {
   "codemirror_mode": {
    "name": "ipython",
    "version": 3
   },
   "file_extension": ".py",
   "mimetype": "text/x-python",
   "name": "python",
   "nbconvert_exporter": "python",
   "pygments_lexer": "ipython3",
   "version": "3.4.1"
  }
 },
 "nbformat": 4,
 "nbformat_minor": 1
}
