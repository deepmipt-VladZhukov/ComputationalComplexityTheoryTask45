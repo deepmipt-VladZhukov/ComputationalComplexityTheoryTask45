{
 "cells": [
  {
   "cell_type": "markdown",
   "metadata": {},
   "source": [
    "### See src.py, test.py files for algorithm code"
   ]
  },
  {
   "cell_type": "code",
   "execution_count": 14,
   "metadata": {
    "collapsed": false
   },
   "outputs": [],
   "source": [
    "import src\n",
    "import test\n",
    "import matplotlib.pyplot as plt"
   ]
  },
  {
   "cell_type": "markdown",
   "metadata": {},
   "source": [
    "# Let's test algorithm\n",
    "See test.py"
   ]
  },
  {
   "cell_type": "code",
   "execution_count": 15,
   "metadata": {
    "collapsed": false
   },
   "outputs": [
    {
     "name": "stderr",
     "output_type": "stream",
     "text": [
      "test_strings_overlap (test.Tests) ... ok\n",
      "\n",
      "----------------------------------------------------------------------\n",
      "Ran 1 test in 0.002s\n",
      "\n",
      "OK\n"
     ]
    },
    {
     "data": {
      "text/plain": [
       "<unittest.runner.TextTestResult run=1 errors=0 failures=0>"
      ]
     },
     "execution_count": 15,
     "metadata": {},
     "output_type": "execute_result"
    }
   ],
   "source": [
    "import unittest\n",
    "suite = unittest.TestLoader().loadTestsFromTestCase(test.Tests)\n",
    "unittest.TextTestRunner(verbosity=2).run(suite)"
   ]
  },
  {
   "cell_type": "markdown",
   "metadata": {},
   "source": [
    "## Example of usage"
   ]
  },
  {
   "cell_type": "code",
   "execution_count": 16,
   "metadata": {
    "collapsed": false
   },
   "outputs": [
    {
     "name": "stdout",
     "output_type": "stream",
     "text": [
      "superstring4: cdeabcfghfhed\n",
      "greedy:       fghfhedcdeabc\n",
      "answer:       ghfghedcdeabc\n"
     ]
    }
   ],
   "source": [
    "strings = ['cde', 'abc', 'eab', 'fgh', 'ghf', 'hed']\n",
    "algo = src.superstring4(strings)\n",
    "print('superstring4: ' + str(algo.solve()))\n",
    "print ('greedy:       ' + \\\n",
    "       str(src.greedy_min_max_contain_string(strings)))\n",
    "print ('answer:       ' + \\\n",
    "       str(src.min_max_contain_string(set(strings)))) \n",
    "                        #input must be set of strings"
   ]
  },
  {
   "cell_type": "code",
   "execution_count": 17,
   "metadata": {
    "collapsed": false
   },
   "outputs": [],
   "source": [
    "from itertools import combinations\n",
    "from itertools import combinations_with_replacement\n",
    "from itertools import permutations\n",
    "from itertools import product\n",
    "\n",
    "def short_string_test(n_words, words):\n",
    "    for c in combinations(words, n_words):\n",
    "        l1 = len(src.greedy_min_max_contain_string(c))\n",
    "        l2 = len(src.min_max_contain_string(set(c)))\n",
    "        res.append((1.0 *l1) / l2)\n",
    "    return res"
   ]
  },
  {
   "cell_type": "markdown",
   "metadata": {},
   "source": [
    "# Let's \"make sure\" that aproximation ratio is equal 2 for short strings(a.r.>=2)\n",
    "It takes some time to find right answers"
   ]
  },
  {
   "cell_type": "code",
   "execution_count": 18,
   "metadata": {
    "collapsed": false
   },
   "outputs": [
    {
     "name": "stdout",
     "output_type": "stream",
     "text": [
      "1.4\n"
     ]
    }
   ],
   "source": [
    "letters = 'abcd'\n",
    "tmp = [map(''.join, product(letters, repeat=length))\\\n",
    "        for length in range(1, 4)]\n",
    "words = [x for n in tmp for x in n]\n",
    "res = []\n",
    "sst = short_string_test(3, words)\n",
    "print(max(sst))"
   ]
  },
  {
   "cell_type": "markdown",
   "metadata": {},
   "source": [
    "For sentences with two words, where words consist of $1, 2, 3$ letters aproximation ratio is ~<= 1.5"
   ]
  },
  {
   "cell_type": "markdown",
   "metadata": {},
   "source": [
    "Let's implement test described in: \n",
    "http://www.mimuw.edu.pl/~mucha/teaching/aa2008/ss.pdf (2.2 The greedy algorithm)"
   ]
  },
  {
   "cell_type": "code",
   "execution_count": 19,
   "metadata": {
    "collapsed": false,
    "scrolled": true
   },
   "outputs": [
    {
     "name": "stdout",
     "output_type": "stream",
     "text": [
      "1.990066225165563\n"
     ]
    }
   ],
   "source": [
    "def generate_worst_test(k):\n",
    "    return ['a' + 'b' * k, 'b' * k + 'c', 'b' * (k + 1)]\n",
    "test = generate_worst_test(4)\n",
    "res = list()\n",
    "for c in [generate_worst_test(i) for i in range(4, 300)]:\n",
    "    l1 = src.greedy_min_max_contain_string(c)\n",
    "    l2 = src.min_max_contain_string(set(c))\n",
    "    res.append(((1.0 *len(l1)) / len(l2)))\n",
    "print (max(res))"
   ]
  },
  {
   "cell_type": "code",
   "execution_count": 20,
   "metadata": {
    "collapsed": false
   },
   "outputs": [
    {
     "data": {
      "image/png": "[encoded data removed]",
      "text/plain": [
       "<matplotlib.figure.Figure at 0x1087940b8>"
      ]
     },
     "metadata": {},
     "output_type": "display_data"
    }
   ],
   "source": [
    "plt.figure(figsize=(10, 5))\n",
    "plt.scatter(range(len(res)), res)\n",
    "plt.show()"
   ]
  },
  {
   "cell_type": "markdown",
   "metadata": {},
   "source": [
    "So we can see on  $\\{ab^k,b^kc,b^{k+1}\\}$ tests algorithm's aproximation ratio converges to 2. We have a little bit better algorighm than in article(in article assumes that strings can not contain each other) that merges strings in one, if one contains another"
   ]
  },
  {
   "cell_type": "markdown",
   "metadata": {},
   "source": [
    "# Testing graph algorithm"
   ]
  },
  {
   "cell_type": "code",
   "execution_count": 21,
   "metadata": {
    "collapsed": false
   },
   "outputs": [
    {
     "name": "stdout",
     "output_type": "stream",
     "text": [
      "1.990066225165563\n"
     ]
    }
   ],
   "source": [
    "test = generate_worst_test(4)\n",
    "res = list()\n",
    "for c in [generate_worst_test(i) for i in range(4, 300)]:\n",
    "    algo = src.superstring4(c)\n",
    "    l1 = algo.solve()\n",
    "    l2 = src.min_max_contain_string(set(c))\n",
    "    res.append(((1.0 *len(l1)) / len(l2)))\n",
    "print (max(res))"
   ]
  },
  {
   "cell_type": "code",
   "execution_count": 22,
   "metadata": {
    "collapsed": false
   },
   "outputs": [
    {
     "data": {
      "image/png": "[encoded data removed]",
      "text/plain": [
       "<matplotlib.figure.Figure at 0x10431ff60>"
      ]
     },
     "metadata": {},
     "output_type": "display_data"
    }
   ],
   "source": [
    "plt.figure(figsize=(10, 5))\n",
    "plt.scatter(range(len(res)), res)\n",
    "plt.show()"
   ]
  },
  {
   "cell_type": "markdown",
   "metadata": {},
   "source": [
    "Small strings tests"
   ]
  },
  {
   "cell_type": "code",
   "execution_count": 23,
   "metadata": {
    "collapsed": false,
    "scrolled": true
   },
   "outputs": [
    {
     "name": "stdout",
     "output_type": "stream",
     "text": [
      "1.6666666666666667\n"
     ]
    }
   ],
   "source": [
    "letters = 'abcd'\n",
    "tmp = [map(''.join, product(letters, repeat=length))\\\n",
    "        for length in range(1, 4)]\n",
    "words = [x for n in tmp for x in n]\n",
    "res = []\n",
    "for c in combinations(words, 3):\n",
    "        algo = src.superstring4(c)\n",
    "        l1 = len(algo.solve())\n",
    "        l2 = len(src.min_max_contain_string(set(c)))\n",
    "        res.append((1.0 *l1) / l2)\n",
    "print(max(res))"
   ]
  },
  {
   "cell_type": "markdown",
   "metadata": {},
   "source": [
    "Worse than greedy"
   ]
  },
  {
   "cell_type": "code",
   "execution_count": 45,
   "metadata": {
    "collapsed": false
   },
   "outputs": [],
   "source": [
    "res = []\n",
    "a = \"\"\n",
    "b = \"\"\n",
    "c = \"\"\n",
    "d = \"\"\n",
    "e = \"\"\n",
    "f = \"\"\n",
    "for k in range(100):\n",
    "    tst = []\n",
    "    a = a + \"a\"\n",
    "    b = b + \"b\"\n",
    "    c = c + \"c\"\n",
    "    d = d + \"d\"\n",
    "    e = e + \"e\"\n",
    "    f = f + \"f\"\n",
    "    x = \"x\"\n",
    "    tst.append(a + x + b)\n",
    "    tst.append(b + x + c)\n",
    "    tst.append(c + x + d)\n",
    "    tst.append(d + x + e)\n",
    "    tst.append(e + x + f)\n",
    "    tst.append(b[:-1] + x + a + x)\n",
    "    tst.append(c[:-1] + x + b + x)\n",
    "    tst.append(d[:-1] + x + c + x)\n",
    "    tst.append(e[:-1] + x + d + x)\n",
    "    tst.append(f[:-1] + x + e + x)\n",
    "    algo = src.superstring4(tst)\n",
    "#     print(tst)\n",
    "#     algo = src.superstring4(tst)\n",
    "    l1 = len(algo.solve())\n",
    "#     print (algo.solve())\n",
    "    l2 = 9 * k + 1\n",
    "#     l2 = len(src.min_max_contain_string(set(tst)))\n",
    "    res.append((1.0 * l1) / l2)"
   ]
  },
  {
   "cell_type": "code",
   "execution_count": 46,
   "metadata": {
    "collapsed": false
   },
   "outputs": [
    {
     "data": {
      "image/png": "[encoded data removed]",
      "text/plain": [
       "<matplotlib.figure.Figure at 0x10820c358>"
      ]
     },
     "metadata": {},
     "output_type": "display_data"
    }
   ],
   "source": [
    "plt.figure(figsize=(10, 5))\n",
    "plt.scatter(range(len(res)), res, s=10)\n",
    "# plt.ylim((0, 5))\n",
    "plt.show()"
   ]
  },
  {
   "cell_type": "markdown",
   "metadata": {},
   "source": [
    "### DOT GRAPH"
   ]
  },
  {
   "cell_type": "code",
   "execution_count": 26,
   "metadata": {
    "collapsed": false
   },
   "outputs": [
    {
     "name": "stdout",
     "output_type": "stream",
     "text": [
      "v0 [shape=box, label=\"abc\"]\n",
      "v1 [shape=box, label=\"bcd\"]\n",
      "v2 [shape=box, label=\"daa\"]\n",
      "v3 [shape=box, label=\"bcc\"]\n",
      "v0->v0 [label=\"3\"]\n",
      "v0->v1 [label=\"2\"]\n",
      "v0->v2 [label=\"0\"]\n",
      "v0->v3 [label=\"2\"]\n",
      "v1->v0 [label=\"0\"]\n",
      "v1->v1 [label=\"3\"]\n",
      "v1->v2 [label=\"1\"]\n",
      "v1->v3 [label=\"0\"]\n",
      "v2->v0 [label=\"1\"]\n",
      "v2->v1 [label=\"0\"]\n",
      "v2->v2 [label=\"3\"]\n",
      "v2->v3 [label=\"0\"]\n",
      "v3->v0 [label=\"0\"]\n",
      "v3->v1 [label=\"0\"]\n",
      "v3->v2 [label=\"0\"]\n",
      "v3->v3 [label=\"3\"]\n"
     ]
    }
   ],
   "source": [
    "strings2 = ['abc', 'bcd', 'daa', 'bcc']\n",
    "for i_id, i in enumerate(strings2):\n",
    "    print (\"v\" + str(i_id) +\" [shape=box, label=\\\"\" + i + \"\\\"]\")\n",
    "for i_id, i in enumerate(strings2):\n",
    "    for j_id, j in enumerate(strings2):\n",
    "        print (\"v\" + str(i_id) + \"->\" + \"v\" + str(j_id) + \" [label=\\\"\"+ str(src.strings_overlap(i, j)) + \"\\\"]\")"
   ]
  }
 ],
 "metadata": {
  "kernelspec": {
   "display_name": "py3.4",
   "language": "python",
   "name": "py3.4"
  },
  "language_info": {
   "codemirror_mode": {
    "name": "ipython",
    "version": 3
   },
   "file_extension": ".py",
   "mimetype": "text/x-python",
   "name": "python",
   "nbconvert_exporter": "python",
   "pygments_lexer": "ipython3",
   "version": "3.4.1"
  }
 },
 "nbformat": 4,
 "nbformat_minor": 1
}
