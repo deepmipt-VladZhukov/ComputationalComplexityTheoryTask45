{
 "cells": [
  {
   "cell_type": "markdown",
   "metadata": {},
   "source": [
    "### See src.py, test.py files for algorithm code"
   ]
  },
  {
   "cell_type": "code",
   "execution_count": 50,
   "metadata": {
    "collapsed": false
   },
   "outputs": [],
   "source": [
    "import src\n",
    "import test"
   ]
  },
  {
   "cell_type": "markdown",
   "metadata": {},
   "source": [
    "# Let's test algorithm\n",
    "See test.py"
   ]
  },
  {
   "cell_type": "code",
   "execution_count": 51,
   "metadata": {
    "collapsed": false
   },
   "outputs": [
    {
     "name": "stderr",
     "output_type": "stream",
     "text": [
      "test_strings_overlap (test.Tests) ... ok\n",
      "\n",
      "----------------------------------------------------------------------\n",
      "Ran 1 test in 0.001s\n",
      "\n",
      "OK\n"
     ]
    },
    {
     "data": {
      "text/plain": [
       "<unittest.runner.TextTestResult run=1 errors=0 failures=0>"
      ]
     },
     "execution_count": 51,
     "metadata": {},
     "output_type": "execute_result"
    }
   ],
   "source": [
    "import unittest\n",
    "suite = unittest.TestLoader().loadTestsFromTestCase(test.Tests)\n",
    "unittest.TextTestRunner(verbosity=2).run(suite)"
   ]
  },
  {
   "cell_type": "markdown",
   "metadata": {},
   "source": [
    "## Example of usage"
   ]
  },
  {
   "cell_type": "code",
   "execution_count": 52,
   "metadata": {
    "collapsed": false
   },
   "outputs": [
    {
     "name": "stdout",
     "output_type": "stream",
     "text": [
      "superstring4: cdeabcfghfhed\n",
      "greedy:       cdeabchedfghf\n",
      "answer:       fghfhedcdeabc\n"
     ]
    }
   ],
   "source": [
    "strings = ['cde', 'abc', 'eab', 'fgh', 'ghf', 'hed']\n",
    "algo = src.superstring4(strings)\n",
    "print('superstring4: ' + str(algo.solve()))\n",
    "print ('greedy:       ' + str(src.greedy_min_max_contain_string(strings)))\n",
    "print ('answer:       ' + str(src.min_max_contain_string(set(strings)))) #input must be set of strings"
   ]
  },
  {
   "cell_type": "code",
   "execution_count": 57,
   "metadata": {
    "collapsed": false
   },
   "outputs": [],
   "source": [
    "from itertools import combinations\n",
    "from itertools import combinations_with_replacement\n",
    "from itertools import permutations\n",
    "from itertools import product\n",
    "\n",
    "def short_string_test(n_words, words):\n",
    "    for c in combinations(words, n_words):\n",
    "        l1 = len(src.greedy_min_max_contain_string(c))\n",
    "        l2 = len(src.min_max_contain_string(set(c)))\n",
    "        res.append((1.0 *l1) / l2)\n",
    "    return res"
   ]
  },
  {
   "cell_type": "markdown",
   "metadata": {},
   "source": [
    "# Let's \"make sure\" that aproximation ratio is equal 2 for short strings(>=2)\n",
    "It takes some time to find right answers"
   ]
  },
  {
   "cell_type": "code",
   "execution_count": 62,
   "metadata": {
    "collapsed": false
   },
   "outputs": [
    {
     "name": "stdout",
     "output_type": "stream",
     "text": [
      "1.4\n"
     ]
    }
   ],
   "source": [
    "letters = 'abcd'\n",
    "tmp = [map(''.join, product(letters, repeat=length)) for length in range(1, 4)]\n",
    "words = [x for n in tmp for x in n]\n",
    "res = []\n",
    "sst = short_string_test(3, words)\n",
    "print(max(sst))"
   ]
  },
  {
   "cell_type": "markdown",
   "metadata": {},
   "source": [
    "For sentences with to words, where words consist of $1, 2, 3$ letters aproximation ratio is ~<= 1.5"
   ]
  },
  {
   "cell_type": "markdown",
   "metadata": {},
   "source": [
    "Let's implement test described in: \n",
    "http://www.mimuw.edu.pl/~mucha/teaching/aa2008/ss.pdf (2.2 The greedy algorithm)"
   ]
  },
  {
   "cell_type": "code",
   "execution_count": 44,
   "metadata": {
    "collapsed": false
   },
   "outputs": [
    {
     "name": "stdout",
     "output_type": "stream",
     "text": [
      "1.99\n"
     ]
    }
   ],
   "source": [
    "def generate_worst_test(k):\n",
    "    return ['a' + 'b' * k, 'b' * k + 'c', 'b' * (k + 1)]\n",
    "test = generate_worst_test(4)\n",
    "res = list()\n",
    "for c in [generate_worst_test(i) for i in range(4, 300)]:\n",
    "    l1 = src.greedy_min_max_contain_string(c)\n",
    "    l2 = src.min_max_contain_string(set(c))\n",
    "    res.append(((1.0 *len(l1)) / len(l2)))\n",
    "print (max(res))"
   ]
  },
  {
   "cell_type": "markdown",
   "metadata": {},
   "source": [
    "So we can see on  $\\{ab^k,b^kc,b^{k+1}\\}$ tests algorithm's aproximation ratio converges to 2 (we have a little bit better algorighm that merge strings in one, if one contains another)"
   ]
  }
 ],
 "metadata": {
  "kernelspec": {
   "display_name": "py3.4",
   "language": "python",
   "name": "py3.4"
  },
  "language_info": {
   "codemirror_mode": {
    "name": "ipython",
    "version": 3
   },
   "file_extension": ".py",
   "mimetype": "text/x-python",
   "name": "python",
   "nbconvert_exporter": "python",
   "pygments_lexer": "ipython3",
   "version": "3.4.1"
  }
 },
 "nbformat": 4,
 "nbformat_minor": 1
}
